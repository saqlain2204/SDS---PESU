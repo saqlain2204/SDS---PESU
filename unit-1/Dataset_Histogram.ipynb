{
 "cells": [
  {
   "cell_type": "code",
   "execution_count": 2,
   "metadata": {
    "collapsed": false
   },
   "outputs": [
    {
     "name": "stdout",
     "output_type": "stream",
     "text": [
      "      Loan_ID  Gender Married Dependents     Education Self_Employed  \\\n",
      "0    LP001002    Male      No          0      Graduate            No   \n",
      "1    LP001003    Male     Yes          1      Graduate            No   \n",
      "2    LP001005    Male     Yes          0      Graduate           Yes   \n",
      "3    LP001006    Male     Yes          0  Not Graduate            No   \n",
      "4    LP001008    Male      No          0      Graduate            No   \n",
      "5    LP001011    Male     Yes          2      Graduate           Yes   \n",
      "6    LP001013    Male     Yes          0  Not Graduate            No   \n",
      "7    LP001014    Male     Yes         3+      Graduate            No   \n",
      "8    LP001018    Male     Yes          2      Graduate            No   \n",
      "9    LP001020    Male     Yes          1      Graduate            No   \n",
      "10   LP001024    Male     Yes          2      Graduate            No   \n",
      "11   LP001027    Male     Yes          2      Graduate           NaN   \n",
      "12   LP001028    Male     Yes          2      Graduate            No   \n",
      "13   LP001029    Male      No          0      Graduate            No   \n",
      "14   LP001030    Male     Yes          2      Graduate            No   \n",
      "15   LP001032    Male      No          0      Graduate            No   \n",
      "16   LP001034    Male      No          1  Not Graduate            No   \n",
      "17   LP001036  Female      No          0      Graduate            No   \n",
      "18   LP001038    Male     Yes          0  Not Graduate            No   \n",
      "19   LP001041    Male     Yes          0      Graduate           NaN   \n",
      "20   LP001043    Male     Yes          0  Not Graduate            No   \n",
      "21   LP001046    Male     Yes          1      Graduate            No   \n",
      "22   LP001047    Male     Yes          0  Not Graduate            No   \n",
      "23   LP001050     NaN     Yes          2  Not Graduate            No   \n",
      "24   LP001052    Male     Yes          1      Graduate           NaN   \n",
      "25   LP001066    Male     Yes          0      Graduate           Yes   \n",
      "26   LP001068    Male     Yes          0      Graduate            No   \n",
      "27   LP001073    Male     Yes          2  Not Graduate            No   \n",
      "28   LP001086    Male      No          0  Not Graduate            No   \n",
      "29   LP001087  Female      No          2      Graduate           NaN   \n",
      "..        ...     ...     ...        ...           ...           ...   \n",
      "584  LP002911    Male     Yes          1      Graduate            No   \n",
      "585  LP002912    Male     Yes          1      Graduate            No   \n",
      "586  LP002916    Male     Yes          0      Graduate            No   \n",
      "587  LP002917  Female      No          0  Not Graduate            No   \n",
      "588  LP002925     NaN      No          0      Graduate            No   \n",
      "589  LP002926    Male     Yes          2      Graduate           Yes   \n",
      "590  LP002928    Male     Yes          0      Graduate            No   \n",
      "591  LP002931    Male     Yes          2      Graduate           Yes   \n",
      "592  LP002933     NaN      No         3+      Graduate           Yes   \n",
      "593  LP002936    Male     Yes          0      Graduate            No   \n",
      "594  LP002938    Male     Yes          0      Graduate           Yes   \n",
      "595  LP002940    Male      No          0  Not Graduate            No   \n",
      "596  LP002941    Male     Yes          2  Not Graduate           Yes   \n",
      "597  LP002943    Male      No        NaN      Graduate            No   \n",
      "598  LP002945    Male     Yes          0      Graduate           Yes   \n",
      "599  LP002948    Male     Yes          2      Graduate            No   \n",
      "600  LP002949  Female      No         3+      Graduate           NaN   \n",
      "601  LP002950    Male     Yes          0  Not Graduate           NaN   \n",
      "602  LP002953    Male     Yes         3+      Graduate            No   \n",
      "603  LP002958    Male      No          0      Graduate            No   \n",
      "604  LP002959  Female     Yes          1      Graduate            No   \n",
      "605  LP002960    Male     Yes          0  Not Graduate            No   \n",
      "606  LP002961    Male     Yes          1      Graduate            No   \n",
      "607  LP002964    Male     Yes          2  Not Graduate            No   \n",
      "608  LP002974    Male     Yes          0      Graduate            No   \n",
      "609  LP002978  Female      No          0      Graduate            No   \n",
      "610  LP002979    Male     Yes         3+      Graduate            No   \n",
      "611  LP002983    Male     Yes          1      Graduate            No   \n",
      "612  LP002984    Male     Yes          2      Graduate            No   \n",
      "613  LP002990  Female      No          0      Graduate           Yes   \n",
      "\n",
      "     ApplicantIncome  CoapplicantIncome  LoanAmount  Loan_Amount_Term  \\\n",
      "0               5849                0.0         NaN             360.0   \n",
      "1               4583             1508.0       128.0             360.0   \n",
      "2               3000                0.0        66.0             360.0   \n",
      "3               2583             2358.0       120.0             360.0   \n",
      "4               6000                0.0       141.0             360.0   \n",
      "5               5417             4196.0       267.0             360.0   \n",
      "6               2333             1516.0        95.0             360.0   \n",
      "7               3036             2504.0       158.0             360.0   \n",
      "8               4006             1526.0       168.0             360.0   \n",
      "9              12841            10968.0       349.0             360.0   \n",
      "10              3200              700.0        70.0             360.0   \n",
      "11              2500             1840.0       109.0             360.0   \n",
      "12              3073             8106.0       200.0             360.0   \n",
      "13              1853             2840.0       114.0             360.0   \n",
      "14              1299             1086.0        17.0             120.0   \n",
      "15              4950                0.0       125.0             360.0   \n",
      "16              3596                0.0       100.0             240.0   \n",
      "17              3510                0.0        76.0             360.0   \n",
      "18              4887                0.0       133.0             360.0   \n",
      "19              2600             3500.0       115.0               NaN   \n",
      "20              7660                0.0       104.0             360.0   \n",
      "21              5955             5625.0       315.0             360.0   \n",
      "22              2600             1911.0       116.0             360.0   \n",
      "23              3365             1917.0       112.0             360.0   \n",
      "24              3717             2925.0       151.0             360.0   \n",
      "25              9560                0.0       191.0             360.0   \n",
      "26              2799             2253.0       122.0             360.0   \n",
      "27              4226             1040.0       110.0             360.0   \n",
      "28              1442                0.0        35.0             360.0   \n",
      "29              3750             2083.0       120.0             360.0   \n",
      "..               ...                ...         ...               ...   \n",
      "584             2787             1917.0       146.0             360.0   \n",
      "585             4283             3000.0       172.0              84.0   \n",
      "586             2297             1522.0       104.0             360.0   \n",
      "587             2165                0.0        70.0             360.0   \n",
      "588             4750                0.0        94.0             360.0   \n",
      "589             2726                0.0       106.0             360.0   \n",
      "590             3000             3416.0        56.0             180.0   \n",
      "591             6000                0.0       205.0             240.0   \n",
      "592             9357                0.0       292.0             360.0   \n",
      "593             3859             3300.0       142.0             180.0   \n",
      "594            16120                0.0       260.0             360.0   \n",
      "595             3833                0.0       110.0             360.0   \n",
      "596             6383             1000.0       187.0             360.0   \n",
      "597             2987                0.0        88.0             360.0   \n",
      "598             9963                0.0       180.0             360.0   \n",
      "599             5780                0.0       192.0             360.0   \n",
      "600              416            41667.0       350.0             180.0   \n",
      "601             2894             2792.0       155.0             360.0   \n",
      "602             5703                0.0       128.0             360.0   \n",
      "603             3676             4301.0       172.0             360.0   \n",
      "604            12000                0.0       496.0             360.0   \n",
      "605             2400             3800.0         NaN             180.0   \n",
      "606             3400             2500.0       173.0             360.0   \n",
      "607             3987             1411.0       157.0             360.0   \n",
      "608             3232             1950.0       108.0             360.0   \n",
      "609             2900                0.0        71.0             360.0   \n",
      "610             4106                0.0        40.0             180.0   \n",
      "611             8072              240.0       253.0             360.0   \n",
      "612             7583                0.0       187.0             360.0   \n",
      "613             4583                0.0       133.0             360.0   \n",
      "\n",
      "     Credit_History Property_Area Loan_Status  \n",
      "0               1.0         Urban           Y  \n",
      "1               1.0         Rural           N  \n",
      "2               1.0         Urban           Y  \n",
      "3               1.0         Urban           Y  \n",
      "4               1.0         Urban           Y  \n",
      "5               1.0         Urban           Y  \n",
      "6               1.0         Urban           Y  \n",
      "7               0.0     Semiurban           N  \n",
      "8               1.0         Urban           Y  \n",
      "9               1.0     Semiurban           N  \n",
      "10              1.0         Urban           Y  \n",
      "11              1.0         Urban           Y  \n",
      "12              1.0         Urban           Y  \n",
      "13              1.0         Rural           N  \n",
      "14              1.0         Urban           Y  \n",
      "15              1.0         Urban           Y  \n",
      "16              NaN         Urban           Y  \n",
      "17              0.0         Urban           N  \n",
      "18              1.0         Rural           N  \n",
      "19              1.0         Urban           Y  \n",
      "20              0.0         Urban           N  \n",
      "21              1.0         Urban           Y  \n",
      "22              0.0     Semiurban           N  \n",
      "23              0.0         Rural           N  \n",
      "24              NaN     Semiurban           N  \n",
      "25              1.0     Semiurban           Y  \n",
      "26              1.0     Semiurban           Y  \n",
      "27              1.0         Urban           Y  \n",
      "28              1.0         Urban           N  \n",
      "29              1.0     Semiurban           Y  \n",
      "..              ...           ...         ...  \n",
      "584             0.0         Rural           N  \n",
      "585             1.0         Rural           N  \n",
      "586             1.0         Urban           Y  \n",
      "587             1.0     Semiurban           Y  \n",
      "588             1.0     Semiurban           Y  \n",
      "589             0.0     Semiurban           N  \n",
      "590             1.0     Semiurban           Y  \n",
      "591             1.0     Semiurban           N  \n",
      "592             1.0     Semiurban           Y  \n",
      "593             1.0         Rural           Y  \n",
      "594             1.0         Urban           Y  \n",
      "595             1.0         Rural           Y  \n",
      "596             1.0         Rural           N  \n",
      "597             0.0     Semiurban           N  \n",
      "598             1.0         Rural           Y  \n",
      "599             1.0         Urban           Y  \n",
      "600             NaN         Urban           N  \n",
      "601             1.0         Rural           Y  \n",
      "602             1.0         Urban           Y  \n",
      "603             1.0         Rural           Y  \n",
      "604             1.0     Semiurban           Y  \n",
      "605             1.0         Urban           N  \n",
      "606             1.0     Semiurban           Y  \n",
      "607             1.0         Rural           Y  \n",
      "608             1.0         Rural           Y  \n",
      "609             1.0         Rural           Y  \n",
      "610             1.0         Rural           Y  \n",
      "611             1.0         Urban           Y  \n",
      "612             1.0         Urban           Y  \n",
      "613             0.0     Semiurban           N  \n",
      "\n",
      "[614 rows x 13 columns]\n"
     ]
    }
   ],
   "source": [
    "import pandas as pd\n",
    "import numpy as np\n",
    "import matplotlib.pyplot as plt\n",
    "%matplotlib inline\n",
    "import statistics as st\n",
    "\n",
    "df = pd.read_csv(\"train.csv\")\n",
    "print(df)"
   ]
  },
  {
   "cell_type": "code",
   "execution_count": 3,
   "metadata": {
    "collapsed": false
   },
   "outputs": [
    {
     "data": {
      "image/png": "[encoded data removed]",
      "text/plain": [
       "<matplotlib.figure.Figure at 0x2311dcca5c0>"
      ]
     },
     "metadata": {},
     "output_type": "display_data"
    }
   ],
   "source": [
    "#Plotting Histogram\n",
    "#Note : Python always creates an Histogram with equal bin width; \n",
    "#by default number of bins = 10; can be changed\n",
    "\n",
    "df['ApplicantIncome'].hist(histtype='stepfilled', color='red')\n",
    "plt.xlabel('ApplicantIncome')\n",
    "plt.ylabel('Frequency')\n",
    "plt.title('ApplicantIncome Histogram')\n",
    "plt.show()\n"
   ]
  },
  {
   "cell_type": "code",
   "execution_count": 4,
   "metadata": {
    "collapsed": false
   },
   "outputs": [
    {
     "data": {
      "image/png": "[encoded data removed]",
      "text/plain": [
       "<matplotlib.figure.Figure at 0x2311dd764a8>"
      ]
     },
     "metadata": {},
     "output_type": "display_data"
    }
   ],
   "source": [
    "df['CoapplicantIncome'].hist(histtype='stepfilled', color='red')\n",
    "plt.xlabel('CoApplicantIncome')\n",
    "plt.ylabel('Frequency')\n",
    "plt.title('CoapplicantIncome Histogram')\n",
    "plt.show()"
   ]
  },
  {
   "cell_type": "code",
   "execution_count": 8,
   "metadata": {
    "collapsed": false
   },
   "outputs": [
    {
     "data": {
      "image/png": "[encoded data removed]",
      "text/plain": [
       "<matplotlib.figure.Figure at 0x1f3d5548a90>"
      ]
     },
     "metadata": {},
     "output_type": "display_data"
    }
   ],
   "source": [
    "df['LoanAmount'].hist(histtype='stepfilled', color='red')\n",
    "plt.xlabel('LoanAmount')\n",
    "plt.ylabel('Frequency')\n",
    "plt.title('LoanAmount Histogram')\n",
    "plt.show()"
   ]
  },
  {
   "cell_type": "code",
   "execution_count": 17,
   "metadata": {
    "collapsed": false
   },
   "outputs": [
    {
     "data": {
      "image/png": "[encoded data removed]",
      "text/plain": [
       "<matplotlib.figure.Figure at 0x1f3d5ecff98>"
      ]
     },
     "metadata": {},
     "output_type": "display_data"
    }
   ],
   "source": [
    "#using matplotlib.pyplot with default number of bins (10)\n",
    "\n",
    "\n",
    "\n",
    "#patches is the specifics of histogram diagram measurements\n",
    "bin_heights, bins, patches = plt.hist(df['ApplicantIncome'], color='green', histtype = 'stepfilled')\n",
    "\n",
    "plt.xlabel('ApplicantIncome')\n",
    "plt.ylabel('Frequency')\n",
    "plt.title('ApplicantIncome Histogram')\n",
    "plt.show()"
   ]
  },
  {
   "cell_type": "code",
   "execution_count": 16,
   "metadata": {
    "collapsed": false
   },
   "outputs": [
    {
     "data": {
      "image/png": "[encoded data removed]",
      "text/plain": [
       "<matplotlib.figure.Figure at 0x1f3d5e1b080>"
      ]
     },
     "metadata": {},
     "output_type": "display_data"
    }
   ],
   "source": [
    "#using matplotlib.pyplot with default number of bins (10)\n",
    "\n",
    "\n",
    "\n",
    "#patches is the specifics of histogram diagram measurements\n",
    "bin_heights, bins, patches = plt.hist(df['ApplicantIncome'], color='green', histtype = 'stepfilled',bins=20)\n",
    "\n",
    "plt.xlabel('ApplicantIncome')\n",
    "plt.ylabel('Frequency')\n",
    "plt.title('ApplicantIncome Histogram')\n",
    "plt.show()\n"
   ]
  },
  {
   "cell_type": "code",
   "execution_count": null,
   "metadata": {
    "collapsed": true
   },
   "outputs": [],
   "source": []
  }
 ],
 "metadata": {
  "kernelspec": {
   "display_name": "Python 3",
   "language": "python",
   "name": "python3"
  },
  "language_info": {
   "codemirror_mode": {
    "name": "ipython",
    "version": 3
   },
   "file_extension": ".py",
   "mimetype": "text/x-python",
   "name": "python",
   "nbconvert_exporter": "python",
   "pygments_lexer": "ipython3",
   "version": "3.6.0"
  }
 },
 "nbformat": 4,
 "nbformat_minor": 2
}
