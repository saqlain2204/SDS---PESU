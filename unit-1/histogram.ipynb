{
 "cells": [
  {
   "cell_type": "code",
   "execution_count": 1,
   "metadata": {
    "collapsed": false
   },
   "outputs": [
    {
     "data": {
      "image/png": "[encoded data removed]",
      "text/plain": [
       "<matplotlib.figure.Figure at 0x2a4b81ed390>"
      ]
     },
     "metadata": {},
     "output_type": "display_data"
    }
   ],
   "source": [
    "import matplotlib.pyplot as plt\n",
    "import numpy as np\n",
    "\n",
    "x = np.random.normal(170, 10, 250)\n",
    "\n",
    "plt.hist(x)\n",
    "plt.show()"
   ]
  },
  {
   "cell_type": "code",
   "execution_count": null,
   "metadata": {
    "collapsed": true
   },
   "outputs": [],
   "source": [
    "Syntax: matplotlib.pyplot.hist(x, bins=None, range=None, density=False,\n",
    "                               weights=None, cumulative=False, bottom=None, histtype=’bar’, align=’mid’, \n",
    "                               orientation=’vertical’, rwidth=None, log=False, color=None, label=None,\n",
    "                               stacked=False, \\*, data=None, \\*\\*kwargs)\n",
    "\n",
    "Parameters: This method accept the following parameters that are described below:\n",
    "\n",
    "x : This parameter are the sequence of data.\n",
    "bins : This parameter is an optional parameter and \n",
    "    it contains the integer or sequence or string.\n",
    "    \n",
    "range : This parameter is an optional parameter and\n",
    "    it the lower and upper range of the bins.\n",
    "    \n",
    "density : This parameter is an optional parameter and\n",
    "    it contains the boolean values.\n",
    "    \n",
    "weights : This parameter is an optional parameter and \n",
    "    it is an array of weights, of the same shape as x.\n",
    "    \n",
    "bottom : This parameter is the location of the bottom baseline\n",
    "    of each bin.\n",
    "histtype : This parameter is an optional parameter and\n",
    "    it is used to draw type of histogram.\n",
    "    {‘bar’, ‘barstacked’, ‘step’, ‘stepfilled’}\n",
    "    \n",
    "align : This parameter is an optional parameter and\n",
    "    it controls how the histogram is plotted.\n",
    "    {‘left’, ‘mid’, ‘right’}\n",
    "    \n",
    "rwidth : This parameter is an optional parameter and \n",
    "    it is a relative width of the bars \n",
    "    as a fraction of the bin width\n",
    "    \n",
    "log : This parameter is an optional parameter and \n",
    "    it is used to set histogram axis to a log scale\n",
    "    \n",
    "color : This parameter is an optional parameter and \n",
    "    it is a color spec or sequence of color specs, \n",
    "    one per dataset.\n",
    "    \n",
    "label : This parameter is an optional parameter and \n",
    "    it is a string, or sequence of strings \n",
    "    to match multiple datasets.\n",
    "    \n",
    "normed : This parameter is an optional parameter and \n",
    "    it contains the boolean values.\n",
    "    It uses the density keyword argument instead.\n",
    "    \n",
    "    Returns:\n",
    "        n :This returns the values of the histogram bins.\n",
    "bins :This returns the edges of the bins.\n",
    "patches :This returns the list of individual patches used to \n",
    "    create the histogram."
   ]
  },
  {
   "cell_type": "code",
   "execution_count": 4,
   "metadata": {
    "collapsed": false
   },
   "outputs": [
    {
     "data": {
      "text/plain": [
       "array([ 189.07011645,  151.69321022,  156.3285638 ,  176.60007326,\n",
       "        168.41448796,  166.25304823,  178.02205649,  166.5514145 ,\n",
       "        176.7058511 ,  169.10766975,  172.72913087,  159.39587298,\n",
       "        169.962748  ,  169.29396319,  155.97388683,  168.53257256,\n",
       "        154.19791799,  163.83062257,  155.14209851,  168.14581359,\n",
       "        164.13028589,  162.47125362,  186.56360477,  190.15180509,\n",
       "        163.15200217,  169.28936436,  181.16796395,  154.96535078,\n",
       "        156.00833246,  172.8960798 ,  167.39695334,  159.83611689,\n",
       "        180.94998868,  170.58585568,  161.76271622,  177.03324173,\n",
       "        160.33699399,  171.30231828,  169.30822703,  152.28774048,\n",
       "        164.57346926,  168.16358045,  168.5296102 ,  169.26835674,\n",
       "        183.25434818,  174.3997709 ,  191.87497126,  161.90250765,\n",
       "        158.09921953,  156.32506611,  177.86121681,  161.65972971,\n",
       "        156.87762899,  169.58088008,  150.45145547,  177.42428059,\n",
       "        173.41783577,  171.61287025,  176.97799442,  175.77039247,\n",
       "        160.50301455,  172.07815466,  179.03270006,  157.40579285,\n",
       "        165.00094441,  175.55356853,  177.40100767,  167.66343964,\n",
       "        157.75178767,  177.83358931,  185.12392446,  183.5684911 ,\n",
       "        165.11238769,  168.96467579,  157.46232134,  171.22747981,\n",
       "        153.25917516,  172.42660929,  166.43571981,  174.11399521,\n",
       "        175.12479661,  165.09960245,  166.34379636,  170.78570846,\n",
       "        176.08116826,  177.05475062,  172.19734634,  165.23870726,\n",
       "        163.17351582,  157.62413667,  165.04577247,  167.80691804,\n",
       "        172.19185896,  172.85593844,  177.01991237,  178.64647101,\n",
       "        182.64340416,  167.43603302,  171.11190027,  159.42700201,\n",
       "        166.26544078,  168.21298848,  187.64653854,  173.48276535,\n",
       "        195.59089354,  151.61167118,  175.13450451,  180.92404744,\n",
       "        163.16000388,  157.73476385,  174.57992134,  166.94767879,\n",
       "        183.14619025,  174.76726582,  172.30161989,  164.71728391,\n",
       "        182.02969236,  184.26040699,  171.53732125,  165.43465562,\n",
       "        166.73428321,  158.78413113,  166.16908996,  166.69424738,\n",
       "        161.95134092,  168.79315187,  161.19877277,  177.44961232,\n",
       "        173.25871809,  169.62992405,  180.14316337,  176.05418496,\n",
       "        156.29964653,  157.02032704,  171.9395919 ,  190.09764811,\n",
       "        163.75767582,  156.46638095,  164.63801741,  159.08360864,\n",
       "        179.70364707,  155.15916727,  173.1583812 ,  175.94412134,\n",
       "        170.0959738 ,  155.71462154,  180.08615914,  165.37814608,\n",
       "        170.15606192,  161.64487349,  174.26403629,  161.82458119,\n",
       "        179.10220601,  163.09954179,  167.24465152,  172.33482856,\n",
       "        161.30127709,  173.46224724,  179.48684651,  158.40103592,\n",
       "        168.61511494,  185.72454215,  165.81776287,  178.99874747,\n",
       "        178.61975394,  155.68791917,  165.25418631,  162.97411158,\n",
       "        157.43038732,  158.51307374,  151.93724347,  176.70408764,\n",
       "        167.37377806,  169.53935099,  171.00203678,  174.54100937,\n",
       "        178.99519071,  167.81151321,  181.92411746,  174.34467441,\n",
       "        151.764134  ,  161.79360393,  177.81352705,  176.41041521,\n",
       "        169.47072954,  174.96872978,  165.27420786,  163.59383497,\n",
       "        187.16038042,  181.84678347,  159.91539898,  171.71352638,\n",
       "        154.32659231,  176.03999922,  159.89537428,  169.72001116,\n",
       "        159.79907507,  163.74753344,  170.15566974,  167.49053798,\n",
       "        175.65186529,  177.3419568 ,  189.24324516,  159.74681135,\n",
       "        167.08819593,  150.00138392,  168.47311181,  172.16172185,\n",
       "        177.70907449,  181.97261549,  166.46243692,  169.85803569,\n",
       "        175.95779224,  165.71955125,  191.98815615,  176.74388311,\n",
       "        182.90450522,  170.15817592,  169.79606321,  183.95018658,\n",
       "        155.71568403,  172.6478191 ,  162.0015258 ,  172.89649765,\n",
       "        132.90038151,  155.92016028,  172.50111648,  174.22864639,\n",
       "        168.06233988,  173.8271801 ,  189.09978095,  192.23226539,\n",
       "        177.74723471,  174.72517852,  192.44008219,  171.09198708,\n",
       "        174.56486601,  168.77559177,  163.5081583 ,  166.99565396,\n",
       "        156.57082209,  173.00123498,  165.5005155 ,  169.94488487,\n",
       "        157.23884151,  185.32141762,  157.19403472,  167.98634595,\n",
       "        178.82998267,  163.49462821])"
      ]
     },
     "execution_count": 4,
     "metadata": {},
     "output_type": "execute_result"
    }
   ],
   "source": [
    "x"
   ]
  },
  {
   "cell_type": "code",
   "execution_count": 8,
   "metadata": {
    "collapsed": false
   },
   "outputs": [
    {
     "data": {
      "image/png": "[encoded data removed]",
      "text/plain": [
       "<matplotlib.figure.Figure at 0x18ffa734b70>"
      ]
     },
     "metadata": {},
     "output_type": "display_data"
    }
   ],
   "source": [
    "import numpy as np\n",
    "\n",
    "import matplotlib.pyplot as plt\n",
    " \n",
    "x = [21,22,23,4,5,6,77,8,9,10,31,32,33,34,35,36,37,18,49,50,100]\n",
    "#n_bins = 10     #no of bins \n",
    "#patches is the specifics of histogram diagram measurements\n",
    "bin_heights, bins, patches = plt.hist(x, facecolor='green')\n",
    "plt.show()\n"
   ]
  },
  {
   "cell_type": "code",
   "execution_count": 9,
   "metadata": {
    "collapsed": false
   },
   "outputs": [
    {
     "data": {
      "text/plain": [
       "array([ 6.,  4.,  2.,  5.,  2.,  0.,  0.,  1.,  0.,  1.])"
      ]
     },
     "execution_count": 9,
     "metadata": {},
     "output_type": "execute_result"
    }
   ],
   "source": [
    "bin_heights"
   ]
  },
  {
   "cell_type": "code",
   "execution_count": 10,
   "metadata": {
    "collapsed": false
   },
   "outputs": [
    {
     "data": {
      "text/plain": [
       "array([   4. ,   13.6,   23.2,   32.8,   42.4,   52. ,   61.6,   71.2,\n",
       "         80.8,   90.4,  100. ])"
      ]
     },
     "execution_count": 10,
     "metadata": {},
     "output_type": "execute_result"
    }
   ],
   "source": [
    "bins"
   ]
  },
  {
   "cell_type": "code",
   "execution_count": 14,
   "metadata": {
    "collapsed": false
   },
   "outputs": [
    {
     "name": "stdout",
     "output_type": "stream",
     "text": [
      "Rectangle(4,0;9.6x6)\n"
     ]
    }
   ],
   "source": [
    "print(patches[0])"
   ]
  },
  {
   "cell_type": "code",
   "execution_count": 20,
   "metadata": {
    "collapsed": false
   },
   "outputs": [
    {
     "data": {
      "image/png": "[encoded data removed]",
      "text/plain": [
       "<matplotlib.figure.Figure at 0x147de8e5160>"
      ]
     },
     "metadata": {},
     "output_type": "display_data"
    }
   ],
   "source": [
    "#to create unequally sized bins\n",
    "\n",
    "n_bins = [10, 30, 40, 50,80,90]     #bin values\n",
    "bin_heights, bins, patches = plt.hist(x, n_bins, facecolor='red')\n",
    "plt.show()\n"
   ]
  },
  {
   "cell_type": "code",
   "execution_count": 27,
   "metadata": {
    "collapsed": false
   },
   "outputs": [
    {
     "data": {
      "image/png": "[encoded data removed]",
      "text/plain": [
       "<matplotlib.figure.Figure at 0x1b91222aef0>"
      ]
     },
     "metadata": {},
     "output_type": "display_data"
    }
   ],
   "source": [
    "#cumulative histogram -> sets the bin height as, plotted_bin(n) = actual_bin(n) + plotted_bin(n-1) for all bins\n",
    "plt.hist(x, cumulative=True, facecolor='red')\n",
    "plt.show()"
   ]
  },
  {
   "cell_type": "code",
   "execution_count": 25,
   "metadata": {
    "collapsed": false
   },
   "outputs": [
    {
     "data": {
      "image/png": "[encoded data removed]",
      "text/plain": [
       "<matplotlib.figure.Figure at 0x1b913342898>"
      ]
     },
     "metadata": {},
     "output_type": "display_data"
    }
   ],
   "source": [
    "import numpy as np\n",
    "\n",
    "import matplotlib.pyplot as plt\n",
    "\n",
    "x = [21,22,23,4,5,6,77,8,9,10,31,32,33,34,35,36,37,18,49,50,100]\n",
    "num_bins = 5\n",
    "#n, bins, patches = plt.hist(x, num_bins, facecolor='blue', alpha=0.5)\n",
    "plt.hist(x, num_bins, facecolor='blue', alpha=0.5)\n",
    "plt.show()"
   ]
  },
  {
   "cell_type": "code",
   "execution_count": 23,
   "metadata": {
    "collapsed": false
   },
   "outputs": [
    {
     "data": {
      "image/png": "[encoded data removed]",
      "text/plain": [
       "<matplotlib.figure.Figure at 0x1b9121e9630>"
      ]
     },
     "metadata": {},
     "output_type": "display_data"
    }
   ],
   "source": [
    "#!/usr/bin/env python\n",
    "\n",
    "import numpy as np\n",
    "import matplotlib.mlab as mlab\n",
    "import matplotlib.pyplot as plt\n",
    "\n",
    "# example data\n",
    "mu = 100 # mean of distribution\n",
    "sigma = 15 # standard deviation of distribution\n",
    "x = mu + sigma * np.random.randn(10000)\n",
    "\n",
    "num_bins = 20\n",
    "# the histogram of the data\n",
    "n, bins, patches = plt.hist(x, num_bins, normed=1, facecolor='blue', alpha=0.5)\n",
    "\n",
    "# add a 'best fit' line\n",
    "y = mlab.normpdf(bins, mu, sigma)\n",
    "plt.plot(bins, y, 'r--')\n",
    "plt.xlabel('Smarts')\n",
    "plt.ylabel('Probability')\n",
    "plt.title(r'Histogram of IQ: $\\mu=100$, $\\sigma=15$')\n",
    "\n",
    "# Tweak spacing to prevent clipping of ylabel\n",
    "plt.subplots_adjust(left=0.15)\n",
    "plt.show()"
   ]
  },
  {
   "cell_type": "code",
   "execution_count": 28,
   "metadata": {
    "collapsed": false
   },
   "outputs": [
    {
     "data": {
      "text/plain": [
       "array([  3.58531685e-05,   7.17063369e-05,   3.94384853e-04,\n",
       "         1.23693431e-03,   2.72484080e-03,   6.25637790e-03,\n",
       "         9.51901623e-03,   1.62235587e-02,   2.12967821e-02,\n",
       "         2.54557496e-02,   2.59397674e-02,   2.31790734e-02,\n",
       "         1.95937566e-02,   1.25665355e-02,   7.40367929e-03,\n",
       "         4.19482071e-03,   2.07948377e-03,   6.63283616e-04,\n",
       "         2.33045595e-04,   1.97192427e-04])"
      ]
     },
     "execution_count": 28,
     "metadata": {},
     "output_type": "execute_result"
    }
   ],
   "source": [
    "n"
   ]
  },
  {
   "cell_type": "code",
   "execution_count": 16,
   "metadata": {
    "collapsed": false
   },
   "outputs": [],
   "source": [
    "import pandas as pd\n",
    "import numpy as np\n",
    "df = pd.DataFrame(\n",
    "    np.random.randint(1, 7, 6000),\n",
    "    columns = ['one'])"
   ]
  },
  {
   "cell_type": "code",
   "execution_count": 4,
   "metadata": {
    "collapsed": false
   },
   "outputs": [
    {
     "data": {
      "text/html": [
       "<div>\n",
       "<table border=\"1\" class=\"dataframe\">\n",
       "  <thead>\n",
       "    <tr style=\"text-align: right;\">\n",
       "      <th></th>\n",
       "      <th>one</th>\n",
       "    </tr>\n",
       "  </thead>\n",
       "  <tbody>\n",
       "    <tr>\n",
       "      <th>0</th>\n",
       "      <td>3</td>\n",
       "    </tr>\n",
       "    <tr>\n",
       "      <th>1</th>\n",
       "      <td>6</td>\n",
       "    </tr>\n",
       "    <tr>\n",
       "      <th>2</th>\n",
       "      <td>2</td>\n",
       "    </tr>\n",
       "    <tr>\n",
       "      <th>3</th>\n",
       "      <td>3</td>\n",
       "    </tr>\n",
       "    <tr>\n",
       "      <th>4</th>\n",
       "      <td>4</td>\n",
       "    </tr>\n",
       "    <tr>\n",
       "      <th>5</th>\n",
       "      <td>1</td>\n",
       "    </tr>\n",
       "    <tr>\n",
       "      <th>6</th>\n",
       "      <td>4</td>\n",
       "    </tr>\n",
       "    <tr>\n",
       "      <th>7</th>\n",
       "      <td>2</td>\n",
       "    </tr>\n",
       "    <tr>\n",
       "      <th>8</th>\n",
       "      <td>4</td>\n",
       "    </tr>\n",
       "    <tr>\n",
       "      <th>9</th>\n",
       "      <td>6</td>\n",
       "    </tr>\n",
       "    <tr>\n",
       "      <th>10</th>\n",
       "      <td>5</td>\n",
       "    </tr>\n",
       "    <tr>\n",
       "      <th>11</th>\n",
       "      <td>5</td>\n",
       "    </tr>\n",
       "    <tr>\n",
       "      <th>12</th>\n",
       "      <td>3</td>\n",
       "    </tr>\n",
       "    <tr>\n",
       "      <th>13</th>\n",
       "      <td>2</td>\n",
       "    </tr>\n",
       "    <tr>\n",
       "      <th>14</th>\n",
       "      <td>4</td>\n",
       "    </tr>\n",
       "    <tr>\n",
       "      <th>15</th>\n",
       "      <td>2</td>\n",
       "    </tr>\n",
       "    <tr>\n",
       "      <th>16</th>\n",
       "      <td>4</td>\n",
       "    </tr>\n",
       "    <tr>\n",
       "      <th>17</th>\n",
       "      <td>1</td>\n",
       "    </tr>\n",
       "    <tr>\n",
       "      <th>18</th>\n",
       "      <td>6</td>\n",
       "    </tr>\n",
       "    <tr>\n",
       "      <th>19</th>\n",
       "      <td>5</td>\n",
       "    </tr>\n",
       "    <tr>\n",
       "      <th>20</th>\n",
       "      <td>1</td>\n",
       "    </tr>\n",
       "    <tr>\n",
       "      <th>21</th>\n",
       "      <td>4</td>\n",
       "    </tr>\n",
       "    <tr>\n",
       "      <th>22</th>\n",
       "      <td>1</td>\n",
       "    </tr>\n",
       "    <tr>\n",
       "      <th>23</th>\n",
       "      <td>2</td>\n",
       "    </tr>\n",
       "    <tr>\n",
       "      <th>24</th>\n",
       "      <td>2</td>\n",
       "    </tr>\n",
       "    <tr>\n",
       "      <th>25</th>\n",
       "      <td>2</td>\n",
       "    </tr>\n",
       "    <tr>\n",
       "      <th>26</th>\n",
       "      <td>3</td>\n",
       "    </tr>\n",
       "    <tr>\n",
       "      <th>27</th>\n",
       "      <td>5</td>\n",
       "    </tr>\n",
       "    <tr>\n",
       "      <th>28</th>\n",
       "      <td>4</td>\n",
       "    </tr>\n",
       "    <tr>\n",
       "      <th>29</th>\n",
       "      <td>3</td>\n",
       "    </tr>\n",
       "    <tr>\n",
       "      <th>...</th>\n",
       "      <td>...</td>\n",
       "    </tr>\n",
       "    <tr>\n",
       "      <th>5970</th>\n",
       "      <td>5</td>\n",
       "    </tr>\n",
       "    <tr>\n",
       "      <th>5971</th>\n",
       "      <td>4</td>\n",
       "    </tr>\n",
       "    <tr>\n",
       "      <th>5972</th>\n",
       "      <td>5</td>\n",
       "    </tr>\n",
       "    <tr>\n",
       "      <th>5973</th>\n",
       "      <td>2</td>\n",
       "    </tr>\n",
       "    <tr>\n",
       "      <th>5974</th>\n",
       "      <td>3</td>\n",
       "    </tr>\n",
       "    <tr>\n",
       "      <th>5975</th>\n",
       "      <td>6</td>\n",
       "    </tr>\n",
       "    <tr>\n",
       "      <th>5976</th>\n",
       "      <td>3</td>\n",
       "    </tr>\n",
       "    <tr>\n",
       "      <th>5977</th>\n",
       "      <td>4</td>\n",
       "    </tr>\n",
       "    <tr>\n",
       "      <th>5978</th>\n",
       "      <td>1</td>\n",
       "    </tr>\n",
       "    <tr>\n",
       "      <th>5979</th>\n",
       "      <td>1</td>\n",
       "    </tr>\n",
       "    <tr>\n",
       "      <th>5980</th>\n",
       "      <td>5</td>\n",
       "    </tr>\n",
       "    <tr>\n",
       "      <th>5981</th>\n",
       "      <td>2</td>\n",
       "    </tr>\n",
       "    <tr>\n",
       "      <th>5982</th>\n",
       "      <td>4</td>\n",
       "    </tr>\n",
       "    <tr>\n",
       "      <th>5983</th>\n",
       "      <td>5</td>\n",
       "    </tr>\n",
       "    <tr>\n",
       "      <th>5984</th>\n",
       "      <td>5</td>\n",
       "    </tr>\n",
       "    <tr>\n",
       "      <th>5985</th>\n",
       "      <td>6</td>\n",
       "    </tr>\n",
       "    <tr>\n",
       "      <th>5986</th>\n",
       "      <td>3</td>\n",
       "    </tr>\n",
       "    <tr>\n",
       "      <th>5987</th>\n",
       "      <td>5</td>\n",
       "    </tr>\n",
       "    <tr>\n",
       "      <th>5988</th>\n",
       "      <td>6</td>\n",
       "    </tr>\n",
       "    <tr>\n",
       "      <th>5989</th>\n",
       "      <td>3</td>\n",
       "    </tr>\n",
       "    <tr>\n",
       "      <th>5990</th>\n",
       "      <td>4</td>\n",
       "    </tr>\n",
       "    <tr>\n",
       "      <th>5991</th>\n",
       "      <td>1</td>\n",
       "    </tr>\n",
       "    <tr>\n",
       "      <th>5992</th>\n",
       "      <td>1</td>\n",
       "    </tr>\n",
       "    <tr>\n",
       "      <th>5993</th>\n",
       "      <td>1</td>\n",
       "    </tr>\n",
       "    <tr>\n",
       "      <th>5994</th>\n",
       "      <td>6</td>\n",
       "    </tr>\n",
       "    <tr>\n",
       "      <th>5995</th>\n",
       "      <td>1</td>\n",
       "    </tr>\n",
       "    <tr>\n",
       "      <th>5996</th>\n",
       "      <td>3</td>\n",
       "    </tr>\n",
       "    <tr>\n",
       "      <th>5997</th>\n",
       "      <td>4</td>\n",
       "    </tr>\n",
       "    <tr>\n",
       "      <th>5998</th>\n",
       "      <td>3</td>\n",
       "    </tr>\n",
       "    <tr>\n",
       "      <th>5999</th>\n",
       "      <td>1</td>\n",
       "    </tr>\n",
       "  </tbody>\n",
       "</table>\n",
       "<p>6000 rows × 1 columns</p>\n",
       "</div>"
      ],
      "text/plain": [
       "      one\n",
       "0       3\n",
       "1       6\n",
       "2       2\n",
       "3       3\n",
       "4       4\n",
       "5       1\n",
       "6       4\n",
       "7       2\n",
       "8       4\n",
       "9       6\n",
       "10      5\n",
       "11      5\n",
       "12      3\n",
       "13      2\n",
       "14      4\n",
       "15      2\n",
       "16      4\n",
       "17      1\n",
       "18      6\n",
       "19      5\n",
       "20      1\n",
       "21      4\n",
       "22      1\n",
       "23      2\n",
       "24      2\n",
       "25      2\n",
       "26      3\n",
       "27      5\n",
       "28      4\n",
       "29      3\n",
       "...   ...\n",
       "5970    5\n",
       "5971    4\n",
       "5972    5\n",
       "5973    2\n",
       "5974    3\n",
       "5975    6\n",
       "5976    3\n",
       "5977    4\n",
       "5978    1\n",
       "5979    1\n",
       "5980    5\n",
       "5981    2\n",
       "5982    4\n",
       "5983    5\n",
       "5984    5\n",
       "5985    6\n",
       "5986    3\n",
       "5987    5\n",
       "5988    6\n",
       "5989    3\n",
       "5990    4\n",
       "5991    1\n",
       "5992    1\n",
       "5993    1\n",
       "5994    6\n",
       "5995    1\n",
       "5996    3\n",
       "5997    4\n",
       "5998    3\n",
       "5999    1\n",
       "\n",
       "[6000 rows x 1 columns]"
      ]
     },
     "execution_count": 4,
     "metadata": {},
     "output_type": "execute_result"
    }
   ],
   "source": [
    "df"
   ]
  },
  {
   "cell_type": "code",
   "execution_count": 17,
   "metadata": {
    "collapsed": false
   },
   "outputs": [
    {
     "data": {
      "image/png": "[encoded data removed]",
      "text/plain": [
       "<matplotlib.figure.Figure at 0x1b911ee0400>"
      ]
     },
     "metadata": {},
     "output_type": "display_data"
    }
   ],
   "source": [
    "%matplotlib inline\n",
    "ax = df.plot.hist(bins=12, alpha=0.5)"
   ]
  },
  {
   "cell_type": "code",
   "execution_count": 18,
   "metadata": {
    "collapsed": false
   },
   "outputs": [
    {
     "data": {
      "image/png": "[encoded data removed]",
      "text/plain": [
       "<matplotlib.figure.Figure at 0x1b9105cbf98>"
      ]
     },
     "metadata": {},
     "output_type": "display_data"
    }
   ],
   "source": [
    "df['two'] = df['one'] + np.random.randint(1, 7, 6000)\n",
    "ax = df.plot.hist(bins=12, alpha=0.5)\n",
    "9"
   ]
  },
  {
   "cell_type": "code",
   "execution_count": null,
   "metadata": {
    "collapsed": true
   },
   "outputs": [],
   "source": []
  }
 ],
 "metadata": {
  "kernelspec": {
   "display_name": "Python 3",
   "language": "python",
   "name": "python3"
  },
  "language_info": {
   "codemirror_mode": {
    "name": "ipython",
    "version": 3
   },
   "file_extension": ".py",
   "mimetype": "text/x-python",
   "name": "python",
   "nbconvert_exporter": "python",
   "pygments_lexer": "ipython3",
   "version": "3.6.0"
  }
 },
 "nbformat": 4,
 "nbformat_minor": 2
}
