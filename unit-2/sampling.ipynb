{
 "cells": [
  {
   "cell_type": "code",
   "execution_count": 1,
   "metadata": {
    "collapsed": true
   },
   "outputs": [],
   "source": [
    "import csv\n",
    "import pandas as pd\n",
    "from random import sample \n",
    "\n",
    "df = pd.read_csv('train.csv')"
   ]
  },
  {
   "cell_type": "code",
   "execution_count": 2,
   "metadata": {
    "collapsed": false
   },
   "outputs": [
    {
     "name": "stdout",
     "output_type": "stream",
     "text": [
      "[287, 577, 224, 253, 259, 55, 416, 407, 59, 82]\n",
      "      Loan_ID  Gender Married Dependents     Education Self_Employed  \\\n",
      "287  LP001926    Male     Yes          0      Graduate            No   \n",
      "577  LP002874    Male      No          0      Graduate            No   \n",
      "224  LP001750    Male     Yes          0      Graduate            No   \n",
      "253  LP001843    Male     Yes          1  Not Graduate            No   \n",
      "259  LP001864    Male     Yes         3+  Not Graduate            No   \n",
      "55   LP001194    Male     Yes          2      Graduate            No   \n",
      "416  LP002341  Female      No          1      Graduate            No   \n",
      "407  LP002314  Female      No          0  Not Graduate            No   \n",
      "59   LP001199    Male     Yes          2  Not Graduate            No   \n",
      "82   LP001267  Female     Yes          2      Graduate            No   \n",
      "\n",
      "     ApplicantIncome  CoapplicantIncome  LoanAmount  Loan_Amount_Term  \\\n",
      "287             3704             2000.0       120.0             360.0   \n",
      "577             3229             2739.0       110.0             360.0   \n",
      "224             6250                0.0       128.0             360.0   \n",
      "253             2661             7101.0       279.0             180.0   \n",
      "259             4931                0.0       128.0             360.0   \n",
      "55              2708             1167.0        97.0             360.0   \n",
      "416             2600                0.0       160.0             360.0   \n",
      "407             2213                0.0        66.0             360.0   \n",
      "59              3357             2859.0       144.0             360.0   \n",
      "82              1378             1881.0       167.0             360.0   \n",
      "\n",
      "     Credit_History Property_Area Loan_Status  \n",
      "287             1.0         Rural           Y  \n",
      "577             1.0         Urban           Y  \n",
      "224             1.0     Semiurban           Y  \n",
      "253             1.0     Semiurban           Y  \n",
      "259             NaN     Semiurban           N  \n",
      "55              1.0     Semiurban           Y  \n",
      "416             1.0         Urban           N  \n",
      "407             1.0         Rural           Y  \n",
      "59              1.0         Urban           Y  \n",
      "82              1.0         Urban           N  \n"
     ]
    }
   ],
   "source": [
    "#simple random sampling\n",
    "no_of_elements = 10\n",
    "random_index = sample(range(df.shape[0]), no_of_elements)\n",
    "print(random_index)\n",
    "print(df.iloc[random_index])"
   ]
  },
  {
   "cell_type": "code",
   "execution_count": 3,
   "metadata": {
    "collapsed": false
   },
   "outputs": [
    {
     "name": "stdout",
     "output_type": "stream",
     "text": [
      "      Loan_ID  Gender Married Dependents     Education Self_Employed  \\\n",
      "0    LP001002    Male      No          0      Graduate            No   \n",
      "100  LP001345    Male     Yes          2  Not Graduate            No   \n",
      "200  LP001674    Male     Yes          1  Not Graduate            No   \n",
      "300  LP001964    Male     Yes          0  Not Graduate            No   \n",
      "400  LP002288    Male     Yes          2  Not Graduate            No   \n",
      "500  LP002603  Female      No          0      Graduate            No   \n",
      "600  LP002949  Female      No         3+      Graduate           NaN   \n",
      "\n",
      "     ApplicantIncome  CoapplicantIncome  LoanAmount  Loan_Amount_Term  \\\n",
      "0               5849                0.0         NaN             360.0   \n",
      "100             4288             3263.0       133.0             180.0   \n",
      "200             2600             2500.0        90.0             360.0   \n",
      "300             1800             2934.0        93.0             360.0   \n",
      "400             2889                0.0        45.0             180.0   \n",
      "500              645             3683.0       113.0             480.0   \n",
      "600              416            41667.0       350.0             180.0   \n",
      "\n",
      "     Credit_History Property_Area Loan_Status  \n",
      "0               1.0         Urban           Y  \n",
      "100             1.0         Urban           Y  \n",
      "200             1.0     Semiurban           Y  \n",
      "300             0.0         Urban           N  \n",
      "400             0.0         Urban           N  \n",
      "500             1.0         Rural           Y  \n",
      "600             NaN         Urban           N  \n"
     ]
    }
   ],
   "source": [
    "#systematic sampling\n",
    "Kth = 100\n",
    "index = [i for i in range(df.shape[0]) if i%Kth==0]\n",
    "print(df.iloc[index])"
   ]
  },
  {
   "cell_type": "code",
   "execution_count": 4,
   "metadata": {
    "collapsed": false
   },
   "outputs": [
    {
     "name": "stdout",
     "output_type": "stream",
     "text": [
      "stratas : ['Graduate', 'Not Graduate'] \n",
      "\n",
      "      Loan_ID  Gender Married Dependents     Education Self_Employed  \\\n",
      "159  LP001552    Male     Yes          0      Graduate            No   \n",
      "461  LP002484    Male     Yes         3+      Graduate            No   \n",
      "255  LP001846  Female      No         3+      Graduate            No   \n",
      "608  LP002974    Male     Yes          0      Graduate            No   \n",
      "493  LP002582  Female      No          0  Not Graduate           Yes   \n",
      "340  LP002115    Male     Yes         3+  Not Graduate            No   \n",
      "466  LP002500    Male     Yes         3+  Not Graduate            No   \n",
      "109  LP001384    Male     Yes         3+  Not Graduate            No   \n",
      "\n",
      "     ApplicantIncome  CoapplicantIncome  LoanAmount  Loan_Amount_Term  \\\n",
      "159             4583             5625.0       255.0             360.0   \n",
      "461             7740                0.0       128.0             180.0   \n",
      "255             3083                0.0       255.0             360.0   \n",
      "608             3232             1950.0       108.0             360.0   \n",
      "493            17263                0.0       225.0             360.0   \n",
      "340             2647             1587.0       173.0             360.0   \n",
      "466             2947             1664.0        70.0             180.0   \n",
      "109             2071              754.0        94.0             480.0   \n",
      "\n",
      "     Credit_History Property_Area Loan_Status  \n",
      "159             1.0     Semiurban           Y  \n",
      "461             1.0         Urban           Y  \n",
      "255             1.0         Rural           Y  \n",
      "608             1.0         Rural           Y  \n",
      "493             1.0     Semiurban           Y  \n",
      "340             1.0         Rural           N  \n",
      "466             0.0         Urban           N  \n",
      "109             1.0     Semiurban           Y  \n"
     ]
    }
   ],
   "source": [
    "#stratified sampling\n",
    "#stratas formed based on Education\n",
    "no_of_elements = 4        #number of elements in each strata\n",
    "unique = list(set(df['Education']))\n",
    "print('stratas :', unique, '\\n')\n",
    "index_set = [sample(list(df.index[df['Education']==i]), no_of_elements) for i in unique]\n",
    "index = [j for i in index_set for j in i]\n",
    "print(df.iloc[index])"
   ]
  },
  {
   "cell_type": "code",
   "execution_count": 5,
   "metadata": {
    "collapsed": false
   },
   "outputs": [
    {
     "name": "stdout",
     "output_type": "stream",
     "text": [
      "clusters : ['2', '0', nan, '1', '3+'] selected out of : ['3+', '0', nan, '2', '1'] \n",
      "\n",
      "      Loan_ID  Gender Married Dependents Education Self_Employed  \\\n",
      "5    LP001011    Male     Yes          2  Graduate           Yes   \n",
      "8    LP001018    Male     Yes          2  Graduate            No   \n",
      "10   LP001024    Male     Yes          2  Graduate            No   \n",
      "11   LP001027    Male     Yes          2  Graduate           NaN   \n",
      "12   LP001028    Male     Yes          2  Graduate            No   \n",
      "..        ...     ...     ...        ...       ...           ...   \n",
      "574  LP002863    Male     Yes         3+  Graduate            No   \n",
      "592  LP002933     NaN      No         3+  Graduate           Yes   \n",
      "600  LP002949  Female      No         3+  Graduate           NaN   \n",
      "602  LP002953    Male     Yes         3+  Graduate            No   \n",
      "610  LP002979    Male     Yes         3+  Graduate            No   \n",
      "\n",
      "     ApplicantIncome  CoapplicantIncome  LoanAmount  Loan_Amount_Term  \\\n",
      "5               5417             4196.0       267.0             360.0   \n",
      "8               4006             1526.0       168.0             360.0   \n",
      "10              3200              700.0        70.0             360.0   \n",
      "11              2500             1840.0       109.0             360.0   \n",
      "12              3073             8106.0       200.0             360.0   \n",
      "..               ...                ...         ...               ...   \n",
      "574             6406                0.0       150.0             360.0   \n",
      "592             9357                0.0       292.0             360.0   \n",
      "600              416            41667.0       350.0             180.0   \n",
      "602             5703                0.0       128.0             360.0   \n",
      "610             4106                0.0        40.0             180.0   \n",
      "\n",
      "     Credit_History Property_Area Loan_Status  \n",
      "5               1.0         Urban           Y  \n",
      "8               1.0         Urban           Y  \n",
      "10              1.0         Urban           Y  \n",
      "11              1.0         Urban           Y  \n",
      "12              1.0         Urban           Y  \n",
      "..              ...           ...         ...  \n",
      "574             1.0     Semiurban           N  \n",
      "592             1.0     Semiurban           Y  \n",
      "600             NaN         Urban           N  \n",
      "602             1.0         Urban           Y  \n",
      "610             1.0         Rural           Y  \n",
      "\n",
      "[599 rows x 13 columns]\n"
     ]
    }
   ],
   "source": [
    "#cluster sampling\n",
    "#clusters formed based on number of Dependents\n",
    "no_of_clusters = 5\n",
    "unique = list(set(df['Dependents']))\n",
    "smp = sample(unique, no_of_clusters)\n",
    "print(\"clusters :\", smp, \"selected out of :\", unique, '\\n')\n",
    "index_set = [list(df.index[df['Dependents']==i]) for i in smp]\n",
    "index = [j for i in index_set for j in i]\n",
    "print(df.iloc[index])"
   ]
  },
  {
   "cell_type": "code",
   "execution_count": null,
   "metadata": {
    "collapsed": true
   },
   "outputs": [],
   "source": []
  }
 ],
 "metadata": {
  "kernelspec": {
   "display_name": "Python 3",
   "language": "python",
   "name": "python3"
  },
  "language_info": {
   "codemirror_mode": {
    "name": "ipython",
    "version": 3
   },
   "file_extension": ".py",
   "mimetype": "text/x-python",
   "name": "python",
   "nbconvert_exporter": "python",
   "pygments_lexer": "ipython3",
   "version": "3.11.4"
  }
 },
 "nbformat": 4,
 "nbformat_minor": 2
}
