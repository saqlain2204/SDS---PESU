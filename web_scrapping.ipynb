{
 "cells": [
  {
   "cell_type": "code",
   "execution_count": null,
   "id": "ebc4db74",
   "metadata": {},
   "outputs": [],
   "source": [
    "!pip install bs4"
   ]
  },
  {
   "cell_type": "code",
   "execution_count": null,
   "id": "de5d1c16",
   "metadata": {},
   "outputs": [],
   "source": [
    "from bs4 import BeautifulSoup as bs\n",
    "import requests"
   ]
  },
  {
   "cell_type": "markdown",
   "id": "8234281e-f90e-4488-9d07-7cfa633e4809",
   "metadata": {},
   "source": [
    "### Establishing Connection"
   ]
  },
  {
   "cell_type": "code",
   "execution_count": null,
   "id": "86d2f4ee",
   "metadata": {},
   "outputs": [],
   "source": [
    "page = requests.get(\"https://www.flipkart.com/sony-zv-e10-mirrorless-camera-body-only-vlog/p/itm7f51f42599b5f?pid=DLLG6G8UNHFCDYY9&lid=LSTDLLG6G8UNHFCDYY9MNRFHI&marketplace=FLIPKART&store=jek%2Fp31%2Ftrv&srno=b_1_1&otracker=hp_omu_Best%2Bof%2BElectronics_2_3.dealCard.OMU_Q5LU1U8PHMK6_3&otracker1=hp_omu_PINNED_neo%2Fmerchandising_Best%2Bof%2BElectronics_NA_dealCard_cc_2_NA_view-all_3&fm=organic&iid=en_mHIZKTbD8FJoeycI7GGMmlprwdLwaCmSUWBWySKUqp_qYkzfBOA6vOrYCpH8-_h8mkgz2BCH0oXYNRGodu4IFQ%3D%3D&ppt=None&ppn=None&ssid=ehitt7tvwg0000001692154318778\")\n",
    "print(page)"
   ]
  },
  {
   "cell_type": "markdown",
   "id": "7235c583-cdad-4fde-b7f3-abe1084d875c",
   "metadata": {},
   "source": [
    "### Retrieving Page content in html format"
   ]
  },
  {
   "cell_type": "code",
   "execution_count": null,
   "id": "38c0aba5",
   "metadata": {},
   "outputs": [],
   "source": [
    "htmlContent = page.content"
   ]
  },
  {
   "cell_type": "code",
   "execution_count": null,
   "id": "824bd169",
   "metadata": {},
   "outputs": [],
   "source": [
    "htmlContent"
   ]
  },
  {
   "cell_type": "code",
   "execution_count": null,
   "id": "b767aa96",
   "metadata": {},
   "outputs": [],
   "source": [
    "soup = bs(htmlContent, 'html.parser')"
   ]
  },
  {
   "cell_type": "code",
   "execution_count": null,
   "id": "bbfa14d2",
   "metadata": {},
   "outputs": [],
   "source": [
    "soup"
   ]
  },
  {
   "cell_type": "code",
   "execution_count": null,
   "id": "337b92a6",
   "metadata": {},
   "outputs": [],
   "source": [
    "print(soup.prettify())"
   ]
  },
  {
   "cell_type": "markdown",
   "id": "d575ca7b-9616-4dda-9dcf-629a64472600",
   "metadata": {},
   "source": [
    "### Fetching Reviewed users' Name"
   ]
  },
  {
   "cell_type": "code",
   "execution_count": null,
   "id": "6c1d9109",
   "metadata": {},
   "outputs": [],
   "source": [
    "names = soup.find_all('p', class_=\"_2sc7ZR _2V5EHH\")\n",
    "names"
   ]
  },
  {
   "cell_type": "code",
   "execution_count": null,
   "id": "fb5d0ec5",
   "metadata": {},
   "outputs": [],
   "source": [
    "temp_name = \"\"\n",
    "name_list = []\n",
    "for name in names:\n",
    "    temp_name=\"\"\n",
    "    temp_name = temp_name + name.get_text()\n",
    "    name_list.append(temp_name)\n",
    "name_list"
   ]
  },
  {
   "cell_type": "markdown",
   "id": "593fb4ca-1b08-4a4e-8c98-a50b57349695",
   "metadata": {},
   "source": [
    "### Fetching crresponding reviews and appending in the list"
   ]
  },
  {
   "cell_type": "code",
   "execution_count": null,
   "id": "851970f6-545e-4148-8c3a-1343195a7364",
   "metadata": {},
   "outputs": [],
   "source": [
    "temp_reviews = \"\"\n",
    "review_list = []\n",
    "for review in soup.find_all('div', class_=\"t-ZTKy\"):\n",
    "    temp_reviews = temp_reviews + review.get_text()\n",
    "    review_list.append(temp_reviews)\n",
    "    temp_reviews=\"\"\n",
    "review_list"
   ]
  },
  {
   "cell_type": "code",
   "execution_count": null,
   "id": "da0707b2-5244-46d6-bd8e-2b452bf52dbe",
   "metadata": {},
   "outputs": [],
   "source": [
    "new_list = []\n",
    "for i in review_list:\n",
    "    if (\"READ MORE\" in i):\n",
    "        i = i.replace(\"READ MORE\",\"\")\n",
    "        new_list.append(i)\n",
    "new_list"
   ]
  },
  {
   "cell_type": "code",
   "execution_count": null,
   "id": "fe9aa876-1ae3-4aa2-94b2-5fb7572d314e",
   "metadata": {},
   "outputs": [],
   "source": [
    "import pandas as pd"
   ]
  },
  {
   "cell_type": "markdown",
   "id": "47bceefd-d01d-4f28-b2aa-bdcb0ad3fd99",
   "metadata": {},
   "source": [
    "### Storing it in a dictionary"
   ]
  },
  {
   "cell_type": "code",
   "execution_count": null,
   "id": "12332424-478e-494f-921b-6f5ecac35f2b",
   "metadata": {},
   "outputs": [],
   "source": [
    "data = { \"Name\" : name_list, \"Reviews\":new_list}\n",
    "data"
   ]
  },
  {
   "cell_type": "markdown",
   "id": "07297f3a-06b4-4bbe-b66e-57d35041d0db",
   "metadata": {},
   "source": [
    "### Converting the dictionary into a pandas dataFrame object "
   ]
  },
  {
   "cell_type": "code",
   "execution_count": null,
   "id": "ad010e9b-8540-420d-a362-e382c932370d",
   "metadata": {},
   "outputs": [],
   "source": [
    "df = pd.DataFrame(data)"
   ]
  },
  {
   "cell_type": "code",
   "execution_count": null,
   "id": "acc9d085-5be7-423b-8fb6-5e2ac52c37b3",
   "metadata": {},
   "outputs": [],
   "source": [
    "df"
   ]
  },
  {
   "cell_type": "code",
   "execution_count": null,
   "id": "aa7d6030-b653-4853-b364-5d53d541e01b",
   "metadata": {},
   "outputs": [],
   "source": [
    "df.Reviews[0]"
   ]
  },
  {
   "cell_type": "markdown",
   "id": "b356fcf3-a17c-4ef9-a9b6-dd6dc73a87af",
   "metadata": {},
   "source": [
    "### Pushing it as a csv file"
   ]
  },
  {
   "cell_type": "code",
   "execution_count": null,
   "id": "bfe09603-a2e9-43ba-b69a-34c892ada643",
   "metadata": {},
   "outputs": [],
   "source": [
    "df.to_csv(\"flipkart.csv\")"
   ]
  },
  {
   "cell_type": "code",
   "execution_count": null,
   "id": "44dbc1bc-3a46-4c28-923b-7224dde395bc",
   "metadata": {},
   "outputs": [],
   "source": [
    "\"\"\"\n",
    "    writer = pd.ExcelWriter(\"Flipkart_review.xlsx\", engine = 'xlswriter')\n",
    "    df.to_excel(writer, sheet_name='list')\n",
    "    writer.save()\n",
    "\"\"\""
   ]
  },
  {
   "cell_type": "code",
   "execution_count": null,
   "id": "e1d8584c-aeac-441f-9208-979a4a3a3476",
   "metadata": {},
   "outputs": [],
   "source": []
  }
 ],
 "metadata": {
  "kernelspec": {
   "display_name": "Python 3 (ipykernel)",
   "language": "python",
   "name": "python3"
  },
  "language_info": {
   "codemirror_mode": {
    "name": "ipython",
    "version": 3
   },
   "file_extension": ".py",
   "mimetype": "text/x-python",
   "name": "python",
   "nbconvert_exporter": "python",
   "pygments_lexer": "ipython3",
   "version": "3.9.0"
  }
 },
 "nbformat": 4,
 "nbformat_minor": 5
}
